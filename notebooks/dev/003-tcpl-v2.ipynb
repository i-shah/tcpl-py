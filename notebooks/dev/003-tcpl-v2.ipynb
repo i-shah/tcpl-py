{
 "cells": [
  {
   "cell_type": "code",
   "execution_count": 1,
   "metadata": {},
   "outputs": [
    {
     "name": "stdout",
     "output_type": "stream",
     "text": [
      "Populating the interactive namespace from numpy and matplotlib\n"
     ]
    }
   ],
   "source": [
    "import os,sys\n",
    "from dotenv import load_dotenv, find_dotenv\n",
    "\n",
    "load_dotenv(find_dotenv())\n",
    "\n",
    "os.environ['PYTHONPATH']=os.environ.get('LIB')\n",
    "if not os.environ.get('LIB') in sys.path: \n",
    "    sys.path.insert(0,os.environ.get('LIB'))\n",
    "\n",
    "INP_DIR = os.environ.get('DAT_DIR')    \n",
    "FIG_DIR = os.environ.get('FIG_DIR')\n",
    "\n",
    "%load_ext autoreload\n",
    "%autoreload 2\n",
    "%pylab inline\n",
    "%load_ext rpy2.ipython\n",
    "\n",
    "import matplotlib.text as text\n",
    "import pandas as pd\n",
    "import numpy as np\n",
    "import pylab as pl\n",
    "import scipy as sp\n",
    "import sys\n",
    "import rpy2 \n",
    "import os \n",
    "from matplotlib import gridspec\n",
    "from scipy.interpolate import splev, splrep\n",
    "import seaborn as sns\n",
    "from scipy import stats\n",
    "import rpy2.robjects.packages as rpackages\n",
    "import seaborn as sns\n",
    "from statsmodels import robust\n",
    "from box import Box\n",
    "\n",
    "\n",
    "pd.set_option('display.max_colwidth', 500)\n",
    "\n",
    "\n"
   ]
  },
  {
   "cell_type": "markdown",
   "metadata": {},
   "source": [
    "# Goal\n",
    "\n",
    "Figure out how to call tcplfit2 and tcplhit2"
   ]
  },
  {
   "cell_type": "markdown",
   "metadata": {},
   "source": [
    "# tcplfit2"
   ]
  },
  {
   "cell_type": "code",
   "execution_count": 3,
   "metadata": {},
   "outputs": [
    {
     "name": "stdout",
     "output_type": "stream",
     "text": [
      "[1] \"/opt/miniconda3/lib/R/library\"\n"
     ]
    }
   ],
   "source": [
    "%%R\n",
    "\n",
    "library(tcpl)\n",
    ".libPaths()\n"
   ]
  },
  {
   "cell_type": "code",
   "execution_count": 9,
   "metadata": {},
   "outputs": [
    {
     "data": {
      "text/html": [
       "<div>\n",
       "<style scoped>\n",
       "    .dataframe tbody tr th:only-of-type {\n",
       "        vertical-align: middle;\n",
       "    }\n",
       "\n",
       "    .dataframe tbody tr th {\n",
       "        vertical-align: top;\n",
       "    }\n",
       "\n",
       "    .dataframe thead th {\n",
       "        text-align: right;\n",
       "    }\n",
       "</style>\n",
       "<table border=\"1\" class=\"dataframe\">\n",
       "  <thead>\n",
       "    <tr style=\"text-align: right;\">\n",
       "      <th></th>\n",
       "      <th>lconc</th>\n",
       "      <th>resp</th>\n",
       "    </tr>\n",
       "  </thead>\n",
       "  <tbody>\n",
       "    <tr>\n",
       "      <th>0</th>\n",
       "      <td>1</td>\n",
       "      <td>0.1</td>\n",
       "    </tr>\n",
       "    <tr>\n",
       "      <th>1</th>\n",
       "      <td>10</td>\n",
       "      <td>0.4</td>\n",
       "    </tr>\n",
       "    <tr>\n",
       "      <th>2</th>\n",
       "      <td>20</td>\n",
       "      <td>1.0</td>\n",
       "    </tr>\n",
       "    <tr>\n",
       "      <th>3</th>\n",
       "      <td>50</td>\n",
       "      <td>5.0</td>\n",
       "    </tr>\n",
       "    <tr>\n",
       "      <th>4</th>\n",
       "      <td>90</td>\n",
       "      <td>10.0</td>\n",
       "    </tr>\n",
       "    <tr>\n",
       "      <th>5</th>\n",
       "      <td>100</td>\n",
       "      <td>12.0</td>\n",
       "    </tr>\n",
       "  </tbody>\n",
       "</table>\n",
       "</div>"
      ],
      "text/plain": [
       "   lconc  resp\n",
       "0      1   0.1\n",
       "1     10   0.4\n",
       "2     20   1.0\n",
       "3     50   5.0\n",
       "4     90  10.0\n",
       "5    100  12.0"
      ]
     },
     "execution_count": 9,
     "metadata": {},
     "output_type": "execute_result"
    }
   ],
   "source": [
    "CR = pd.DataFrame(dict(lconc=[1,10,20,50,90,100], resp=[0.1,0.4,1,5,10,12]))\n",
    "CR"
   ]
  },
  {
   "cell_type": "code",
   "execution_count": 10,
   "metadata": {},
   "outputs": [],
   "source": [
    "%Rpush CR"
   ]
  },
  {
   "cell_type": "code",
   "execution_count": 48,
   "metadata": {},
   "outputs": [
    {
     "name": "stderr",
     "output_type": "stream",
     "text": [
      "R[write to console]: tcpl (v2.0.2) loaded with the following settings:\n",
      "  TCPL_DB:    /opt/miniconda3/lib/R/library/tcpl/csv\n",
      "  TCPL_USER:  NA\n",
      "  TCPL_HOST:  NA\n",
      "  TCPL_DRVR:  tcplLite\n",
      "Default settings stored in tcpl config file. See ?tcplConf for more information.\n",
      "\n",
      "R[write to console]: Error in tapply(resp, logc, mean) : object 'CR' not found\n",
      "\n"
     ]
    },
    {
     "name": "stdout",
     "output_type": "stream",
     "text": [
      "\n",
      "Error in tapply(resp, logc, mean) : object 'CR' not found\n"
     ]
    }
   ],
   "source": [
    "%%R\n",
    "\n",
    "library(tcpl)\n",
    "RFit <- tcplFit(CR$lconc,CR$resp,bmad=1)\n",
    "RFit\n"
   ]
  },
  {
   "cell_type": "code",
   "execution_count": 49,
   "metadata": {},
   "outputs": [
    {
     "name": "stdout",
     "output_type": "stream",
     "text": [
      "File: /tmp/Rtmp4dIPAr/Rtxt4065111fa0b5\n",
      "tcplfit2_core             package:tcplfit2             R Documentation\n",
      "\n",
      "\n",
      "\n",
      "Concentration-response curve fitting\n",
      "\n",
      "\n",
      "\n",
      "Description:\n",
      "\n",
      "\n",
      "\n",
      "     Concentration response curve fitting using the methods from\n",
      "\n",
      "     BMDExpress\n",
      "\n",
      "\n",
      "\n",
      "Usage:\n",
      "\n",
      "\n",
      "\n",
      "     tcplfit2_core(\n",
      "\n",
      "       conc,\n",
      "\n",
      "       resp,\n",
      "\n",
      "       cutoff,\n",
      "\n",
      "       force.fit = FALSE,\n",
      "\n",
      "       bidirectional = TRUE,\n",
      "\n",
      "       verbose = FALSE,\n",
      "\n",
      "       do.plot = FALSE,\n",
      "\n",
      "       fitmodels = c(\"cnst\", \"hill\", \"gnls\", \"poly1\", \"poly2\", \"pow\", \"exp2\", \"exp3\", \"exp4\",\n",
      "\n",
      "         \"exp5\"),\n",
      "\n",
      "       ...\n",
      "\n",
      "     )\n",
      "\n",
      "     \n",
      "\n",
      "Arguments:\n",
      "\n",
      "\n",
      "\n",
      "    conc: Vector of concentrations (NOT in log units).\n",
      "\n",
      "\n",
      "\n",
      "    resp: Vector of responses.\n",
      "\n",
      "\n",
      "\n",
      "  cutoff: Desired cutoff. If no absolute responses > cutoff and\n",
      "\n",
      "          force.fit = F, will only fit constant model.\n",
      "\n",
      "\n",
      "\n",
      "force.fit: If force.fit = T, will fit all models regardless of cutoff.\n",
      "\n",
      "\n",
      "\n",
      "bidirectional: If bidirectional = F, will only give positive fits.\n",
      "\n",
      "\n",
      "\n",
      " verbose: If verbose = T, will print optimization details and aics.\n",
      "\n",
      "\n",
      "\n",
      " do.plot: If do.plot = T, will generate a plot comparing model curves.\n",
      "\n",
      "\n",
      "\n",
      "fitmodels: Vector of model names to try fitting. Missing models still\n",
      "\n",
      "          return a skeleton output filled with NAs.\n",
      "\n",
      "\n",
      "\n",
      "     ...: Other fitting parameters (deprecated).\n",
      "\n",
      "\n",
      "\n",
      "Details:\n",
      "\n",
      "\n",
      "\n",
      "     All models are equal to 0 at 0 concentration (zero background). To\n",
      "\n",
      "     add more models in the future, write a fit____ function, and add\n",
      "\n",
      "     the model name to the fitmodels and modelnames vectors.\n",
      "\n",
      "\n",
      "\n",
      "Value:\n",
      "\n",
      "\n",
      "\n",
      "     List of N(models) elements, one for each of the models run (up to\n",
      "\n",
      "     10), followed by a last element \"modelnames\", which is a vector of\n",
      "\n",
      "     model names so other functions can easily cycle through the\n",
      "\n",
      "     output. For a full list, see the documentation for the individual\n",
      "\n",
      "     fitting method functions. For each model there is a sublist with\n",
      "\n",
      "     elements including:\n",
      "\n",
      "\n",
      "\n",
      "        • success - was the model successfully fit\n",
      "\n",
      "\n",
      "\n",
      "        • aic - the AIC value\n",
      "\n",
      "\n",
      "\n",
      "        • cov - success of the the covariance matrix calculation\n",
      "\n",
      "\n",
      "\n",
      "        • rme - root mean error of the data around the curve\n",
      "\n",
      "\n",
      "\n",
      "        • modl - vector of model values at the civen concentrations\n",
      "\n",
      "\n",
      "\n",
      "        • tp - the top of the curve fit\n",
      "\n",
      "\n",
      "\n",
      "        • ga - the AC50 or Hill paramters\n",
      "\n",
      "\n",
      "\n",
      "        • er - the error term\n",
      "\n",
      "\n",
      "\n",
      "        • ... other paramters specific to the model (see the\n",
      "\n",
      "          documentation for the specific models)\n",
      "\n",
      "\n",
      "\n",
      "        • tp_sd, ga_sd, p_sd, etc., the values of the standard\n",
      "\n",
      "          deviations of the paramters for the models\n",
      "\n",
      "\n",
      "\n",
      "        • er_sd - standard deviation of the error term\n",
      "\n",
      "\n",
      "\n",
      "        • pars - the names of the parameters\n",
      "\n",
      "\n",
      "\n",
      "        • sds - the names of the standard deviations of the paramters\n",
      "\n",
      "\n",
      "\n",
      "Examples:\n",
      "\n",
      "\n",
      "\n",
      "     conc = c(.03,.1,.3,1,3,10,30,100)\n",
      "\n",
      "     resp = c(0,.1,0,.2,.6,.9,1.1,1)\n",
      "\n",
      "     output = tcplfit2_core(conc,resp, .8, fitmodels = c(\"cnst\", \"hill\"),verbose = TRUE,\n",
      "\n",
      "       do.plot = TRUE)\n",
      "\n",
      "     \n",
      "\n",
      "---\n"
     ]
    }
   ],
   "source": [
    "%%R \n",
    "\n",
    "?tcplfit2_core"
   ]
  },
  {
   "cell_type": "code",
   "execution_count": 96,
   "metadata": {
    "scrolled": true
   },
   "outputs": [
    {
     "name": "stdout",
     "output_type": "stream",
     "text": [
      "hill >>> 1877 0 \n",
      "gnls >>> 3651 0 \n",
      "poly1 >>> 77 0 \n",
      "poly2 >>> 414 0 \n",
      "power >>> 876 0 \n",
      "Exp2 >>> 196 0 \n",
      "Exp3 >>> 555 0 \n",
      "Exp4 >>> 324 0 \n",
      "Exp5 >>> 1367 0 \n",
      "[1] \"aic values:\"\n",
      "     cnst      hill      gnls     poly1     poly2       pow      exp2      exp3 \n",
      "42.143221 14.781261 18.781259 17.784846  7.125681  7.005693 10.561616  7.983150 \n",
      "     exp4      exp5 \n",
      "28.192109 10.449058 \n",
      "Winner:  pow$success\n",
      "[1] 1\n",
      "\n",
      "$aic\n",
      "[1] 14.78126\n",
      "\n",
      "$cov\n",
      "[1] 1\n",
      "\n",
      "$rme\n",
      "[1] 0.478473\n",
      "\n",
      "$modl\n",
      "[1] 4.546982e-04 1.413709e-01 7.632010e-01 5.118664e+00 1.015594e+01\n",
      "[6] 1.089897e+01\n",
      "\n",
      "$tp\n",
      "[1] 14.4\n",
      "\n",
      "$ga\n",
      "[1] 63.45701\n",
      "\n",
      "$p\n",
      "[1] 2.496908\n",
      "\n",
      "$er\n",
      "[1] -1.238223\n",
      "\n",
      "$tp_sd\n",
      "[1] 1.137298\n",
      "\n",
      "$ga_sd\n",
      "[1] 4.520976\n",
      "\n",
      "$p_sd\n",
      "[1] 0.2775614\n",
      "\n",
      "$er_sd\n",
      "[1] 0.5571156\n",
      "\n",
      "$pars\n",
      "[1] \"tp\" \"ga\" \"p\"  \"er\"\n",
      "\n",
      "$sds\n",
      "[1] \"tp_sd\" \"ga_sd\" \"p_sd\"  \"er_sd\"\n",
      "\n",
      "$top\n",
      "[1] 14.4\n",
      "\n",
      "$ac50\n",
      "[1] 63.45701\n",
      "\n"
     ]
    }
   ],
   "source": [
    "%%R\n",
    "\n",
    "library(tcplfit2)\n",
    "RFit <- tcplfit2_core(c(1,10,20,50,90,100),c(0,0.4,1,5,10,12),CR$resp,cutoff=1,verbose=T,bidirectional=T)\n",
    "names(RFit)\n",
    "RFit$hill"
   ]
  },
  {
   "cell_type": "code",
   "execution_count": 38,
   "metadata": {},
   "outputs": [
    {
     "name": "stdout",
     "output_type": "stream",
     "text": [
      " [1] \"cnst\"  \"hill\"  \"gnls\"  \"poly1\" \"poly2\" \"pow\"   \"exp2\"  \"exp3\"  \"exp4\" \n",
      "[10] \"exp5\" \n"
     ]
    }
   ],
   "source": [
    "%%R\n",
    "\n",
    "#?tcplfit2_core\n",
    "RFit$modelnames"
   ]
  },
  {
   "cell_type": "code",
   "execution_count": 4,
   "metadata": {},
   "outputs": [],
   "source": [
    "from tcpl.fit.tcplfit import *\n",
    "\n",
    "F = tcplFit2(CR.lconc,CR.resp,cutoff=1)"
   ]
  },
  {
   "cell_type": "code",
   "execution_count": 125,
   "metadata": {},
   "outputs": [
    {
     "data": {
      "text/plain": [
       "'pow'"
      ]
     },
     "execution_count": 125,
     "metadata": {},
     "output_type": "execute_result"
    }
   ],
   "source": [
    "F['best_fit']"
   ]
  },
  {
   "cell_type": "code",
   "execution_count": 7,
   "metadata": {},
   "outputs": [
    {
     "data": {
      "text/plain": [
       "['cnst',\n",
       " 'hill',\n",
       " 'gnls',\n",
       " 'poly1',\n",
       " 'poly2',\n",
       " 'pow',\n",
       " 'exp2',\n",
       " 'exp3',\n",
       " 'exp4',\n",
       " 'exp5']"
      ]
     },
     "execution_count": 7,
     "metadata": {},
     "output_type": "execute_result"
    }
   ],
   "source": [
    "[i['model'] for i in F['fits']]"
   ]
  },
  {
   "cell_type": "code",
   "execution_count": 13,
   "metadata": {},
   "outputs": [
    {
     "name": "stdout",
     "output_type": "stream",
     "text": [
      "cnst\n",
      "hill\n",
      "13.6364274572373\n",
      "gnls\n",
      "13.636549696731329\n",
      "poly1\n",
      "22.51767879695921\n",
      "poly2\n",
      "41.323175655840096\n",
      "pow\n",
      "31.179636972849444\n",
      "exp2\n",
      "44.18753771060069\n",
      "exp3\n",
      "41.64218895608892\n",
      "exp4\n",
      "13.003163235500235\n",
      "exp5\n",
      "14.37728259908976\n"
     ]
    }
   ],
   "source": [
    "from tcpl.fit.tcplfit import *\n",
    "\n",
    "for M in F['fits']:\n",
    "    print(M['model'])\n",
    "    if M['model']=='cnst': continue\n",
    "    P = M['params']\n",
    "    P['x']=200\n",
    "    print(eval(\"{model}F(**P)\".format(**M)))"
   ]
  },
  {
   "cell_type": "code",
   "execution_count": 27,
   "metadata": {},
   "outputs": [
    {
     "name": "stdout",
     "output_type": "stream",
     "text": [
      "cnst\n",
      "hill\n",
      "gnls\n",
      "poly1\n",
      "poly2\n",
      "pow\n",
      "exp2\n",
      "exp3\n",
      "exp4\n",
      "exp5\n"
     ]
    },
    {
     "data": {
      "text/plain": [
       "<matplotlib.legend.Legend at 0x7f281502a550>"
      ]
     },
     "execution_count": 27,
     "metadata": {},
     "output_type": "execute_result"
    },
    {
     "data": {
      "image/png": "[encoded data removed]",
      "text/plain": [
       "<Figure size 432x288 with 1 Axes>"
      ]
     },
     "metadata": {
      "needs_background": "light"
     },
     "output_type": "display_data"
    }
   ],
   "source": [
    "from tcpl.fit.tcplfit import *\n",
    "\n",
    "D0 = pd.DataFrame(F['cr_data'])\n",
    "pl.scatter(D0.conc,D0.resp)\n",
    "for M in F['fits']:\n",
    "    print(M['model'])\n",
    "    if M['model']=='cnst': continue\n",
    "    P = M['params']\n",
    "\n",
    "    CRi = []\n",
    "    for x in 10**np.linspace(0,2):\n",
    "        P['x']=x\n",
    "        r=eval(\"{model}F(**P)\".format(**M))\n",
    "        CRi.append(dict(c=x,r=r))\n",
    "    Y = pd.DataFrame(CRi)\n",
    "    pl.plot(Y.c,Y.r,label=M['model'])\n",
    "pl.legend()"
   ]
  },
  {
   "cell_type": "code",
   "execution_count": 26,
   "metadata": {},
   "outputs": [],
   "source": [
    "def calc_BMD1(Fit,BMR=[1,2,3],C=None,\n",
    "              ret='dict',add_info=False,\n",
    "              dbg=False):\n",
    "  \"\"\"\n",
    "  Calculate benchmark doses corresponding to bmrs\n",
    "  \"\"\"\n",
    "  #LC = np.log10(C)\n",
    "  ci,cf = C.min(),C.max()\n",
    "\n",
    "  BMD=[]\n",
    "  P = Fit['params']\n",
    "  \n",
    "  for bmr in BMR:\n",
    "    def bmdf(c): \n",
    "        P['x']=c\n",
    "        return eval(\"{model}F(**P)\".format(**Fit)) - bmr\n",
    "    \n",
    "    soln = optz.fsolve(bmdf,[ci,cf])\n",
    "    soln = soln[np.logical_and(soln>ci,soln<cf)]\n",
    "    bmd0 = np.min(soln)\n",
    "\n",
    "    BMD.append(bmd0)\n",
    "    \n",
    "  return BMD\n",
    "  "
   ]
  },
  {
   "cell_type": "code",
   "execution_count": 47,
   "metadata": {},
   "outputs": [
    {
     "name": "stdout",
     "output_type": "stream",
     "text": [
      "Failed E 1.00\n",
      "Failed E 2.00\n",
      "Failed E 3.00\n"
     ]
    },
    {
     "name": "stderr",
     "output_type": "stream",
     "text": [
      "/home/ishah/ipynb/chiron/tcplpy/src/tcpl/fit/tcplfit.py:156: RuntimeWarning: invalid value encountered in power\n",
      "  return tp/((1 + (ga/x)**p )*(1 + (x/la)**q))\n"
     ]
    },
    {
     "data": {
      "text/plain": [
       "[]"
      ]
     },
     "execution_count": 47,
     "metadata": {},
     "output_type": "execute_result"
    }
   ],
   "source": [
    "from tcpl.fit.tcplfit import *\n",
    "\n",
    "calc_BMDs(F['fits'][2],C=np.array([0.5,200]),dbg=True)\n"
   ]
  },
  {
   "cell_type": "code",
   "execution_count": 40,
   "metadata": {},
   "outputs": [
    {
     "data": {
      "text/plain": [
       "{'model': 'gnls',\n",
       " 'aic': 18.92046942340897,\n",
       " 'top': 14.395353463983058,\n",
       " 'ac50': 63.37108243335995,\n",
       " 'params': {'tp': 14.399999999985656,\n",
       "  'ga': 63.387386281144714,\n",
       "  'p': 2.5087286938418543,\n",
       "  'la': 9999.349071784494,\n",
       "  'q': 5.389231554969999,\n",
       "  'er': -1.1952950937997588,\n",
       "  'x': array([6.90341779e-310, 4.65868769e-310])},\n",
       " 'param_sds': {'tp_sd': 1.2326875826018762,\n",
       "  'ga_sd': 4.862534777621208,\n",
       "  'p_sd': 0.29437713203253874,\n",
       "  'la_sd': 313664996.0106442,\n",
       "  'q_sd': 37181.685508674804,\n",
       "  'er_sd': 0.5305768930394421},\n",
       " 'resp_fit': [0.00043412336116826984,\n",
       "  0.13872375758750594,\n",
       "  0.7553651718168842,\n",
       "  5.118454565813862,\n",
       "  10.176514278218596,\n",
       "  10.920472434120917]}"
      ]
     },
     "execution_count": 40,
     "metadata": {},
     "output_type": "execute_result"
    }
   ],
   "source": [
    "F['fits'][2]"
   ]
  },
  {
   "cell_type": "markdown",
   "metadata": {},
   "source": [
    "# tcplhit2"
   ]
  },
  {
   "cell_type": "code",
   "execution_count": 7,
   "metadata": {
    "scrolled": true
   },
   "outputs": [
    {
     "name": "stdout",
     "output_type": "stream",
     "text": [
      "File: /tmp/RtmpaM6oOo/Rtxt131d1485285c\n",
      "tcplhit2_core             package:tcplfit2             R Documentation\n",
      "\n",
      "\n",
      "\n",
      "Hitcalling Function\n",
      "\n",
      "\n",
      "\n",
      "Description:\n",
      "\n",
      "\n",
      "\n",
      "     Core of hitcalling function. This method chooses the winning model\n",
      "\n",
      "     from tcplfit2_core, extracts the top and ac50, computes the\n",
      "\n",
      "     hitcall, and calculates bmd/bmdl/bmdu among other statistics.\n",
      "\n",
      "     Nested model selection is used to choose between poly1/poly2, then\n",
      "\n",
      "     the model with the lowest AIC (or AICc) is declared the winner.\n",
      "\n",
      "     Continuous hitcalls requires tcplfit2_core to be run with\n",
      "\n",
      "     force.fit = T and \"cnst\" never to be chosen as the winner.\n",
      "\n",
      "\n",
      "\n",
      "Usage:\n",
      "\n",
      "\n",
      "\n",
      "     tcplhit2_core(\n",
      "\n",
      "       params,\n",
      "\n",
      "       conc,\n",
      "\n",
      "       resp,\n",
      "\n",
      "       cutoff,\n",
      "\n",
      "       onesd,\n",
      "\n",
      "       bmed = 0,\n",
      "\n",
      "       conthits = T,\n",
      "\n",
      "       aicc = F,\n",
      "\n",
      "       identifiers = NULL\n",
      "\n",
      "     )\n",
      "\n",
      "     \n",
      "\n",
      "Arguments:\n",
      "\n",
      "\n",
      "\n",
      "  params: The output from tcplfit2_core\n",
      "\n",
      "\n",
      "\n",
      "    conc: list of concentrations (not in log units)\n",
      "\n",
      "\n",
      "\n",
      "    resp: list of corresponding responses\n",
      "\n",
      "\n",
      "\n",
      "  cutoff: noise cutoff\n",
      "\n",
      "\n",
      "\n",
      "   onesd: 1 standard deviation of the noise (for bmd calculation)\n",
      "\n",
      "\n",
      "\n",
      "    bmed: median of noise estimate. Default 0\n",
      "\n",
      "\n",
      "\n",
      "conthits: conthits = TUE uses continuous hitcalls, otherwise they're\n",
      "\n",
      "          discrete. Default TRUE\n",
      "\n",
      "\n",
      "\n",
      "    aicc: aicc = TRUE uses corrected AIC to choose winning method;\n",
      "\n",
      "          otherwise regular AIC. Default FALSE\n",
      "\n",
      "\n",
      "\n",
      "identifiers: A one-row data frame containing identifiers of the\n",
      "\n",
      "          concentration-response profile, such as the chemical name or\n",
      "\n",
      "          other identifiers, and any assay identifiers. The column\n",
      "\n",
      "          names identify the type of value. This can be NULL. The\n",
      "\n",
      "          values will be included in the output summary data frame\n",
      "\n",
      "\n",
      "\n",
      "Value:\n",
      "\n",
      "\n",
      "\n",
      "     A list of with the detailed results from all of the different\n",
      "\n",
      "     model fits. The elements of summary are:\n",
      "\n",
      "\n",
      "\n",
      "        • any elements of the identifiers input\n",
      "\n",
      "\n",
      "\n",
      "        • n_gt_cutoff - number of data points above the cutoff\n",
      "\n",
      "\n",
      "\n",
      "        • cutoff - noise cutoff\n",
      "\n",
      "\n",
      "\n",
      "        • fit_method - curve fit method\n",
      "\n",
      "\n",
      "\n",
      "        • top_over_cutoff - top divided by cutoff\n",
      "\n",
      "\n",
      "\n",
      "        • rmse - RMSE of the data points arount the best model curve\n",
      "\n",
      "\n",
      "\n",
      "        • a - fitting parameter methods: exp2, exp3, poly1, poly2, pow\n",
      "\n",
      "\n",
      "\n",
      "        • b - fitting parameter methods: exp2, exp3, ploy2\n",
      "\n",
      "\n",
      "\n",
      "        • p - fitting parameter methods: exp3, exp5, gnls, hill, pow\n",
      "\n",
      "\n",
      "\n",
      "        • q - fitting parameter methods: gnls,\n",
      "\n",
      "\n",
      "\n",
      "        • tp - top of the curve\n",
      "\n",
      "\n",
      "\n",
      "        • ga - ac50 for the rising curve in a gnls model or the Hill\n",
      "\n",
      "          model\n",
      "\n",
      "\n",
      "\n",
      "        • la - ac50 for the falling curve in a gnls model\n",
      "\n",
      "\n",
      "\n",
      "        • er - fitted error term for plotting error bars\n",
      "\n",
      "\n",
      "\n",
      "        • bmr - benchmark response; level at which bmd is calculated =\n",
      "\n",
      "          onesd*1.349\n",
      "\n",
      "\n",
      "\n",
      "        • bmd - benchmark dose, curve value at bmr\n",
      "\n",
      "\n",
      "\n",
      "        • bmdl - lower limit on the bmd\n",
      "\n",
      "\n",
      "\n",
      "        • bmdu - upper limit on the bmd\n",
      "\n",
      "\n",
      "\n",
      "        • caikwt - one factor used in calculating the continuous\n",
      "\n",
      "          hitcall. It is calcalated from the formula =\n",
      "\n",
      "          exp(-aic(cnst)/2)/(exp(-aic(cnst)/2) +\n",
      "\n",
      "          exp(-aic(fit_method)/2)) and measures how much lower the\n",
      "\n",
      "          selected method AIC is than that for the constant model\n",
      "\n",
      "\n",
      "\n",
      "        • mll - anoter factor used in calcualting the continuous\n",
      "\n",
      "          hitcall = length(modpars) - aic(fit_method)/2\n",
      "\n",
      "\n",
      "\n",
      "        • hitcall - the final hitcall, a value ranging from 0 to 1\n",
      "\n",
      "\n",
      "\n",
      "        • top - curve top\n",
      "\n",
      "\n",
      "\n",
      "        • ac50 - curve value at 50% of top, curve value at cutoff\n",
      "\n",
      "\n",
      "\n",
      "        • lc50 - curve value at 50% of top corresponding to the loss\n",
      "\n",
      "          side of the gain-loss curve\n",
      "\n",
      "\n",
      "\n",
      "        • ac5 - curve value at 5% of top\n",
      "\n",
      "\n",
      "\n",
      "        • ac10 - curve value at 10% of top\n",
      "\n",
      "\n",
      "\n",
      "        • ac20 - curve value at 20% of top\n",
      "\n",
      "\n",
      "\n",
      "        • acc - curve value at 1 standard deviation\n",
      "\n",
      "\n",
      "\n",
      "        • conc - conc string separated by |'s\n",
      "\n",
      "\n",
      "\n",
      "        • resp - response string separated by |'s\n",
      "\n",
      "\n",
      "\n",
      "---\n"
     ]
    }
   ],
   "source": [
    "%%R\n",
    "\n",
    "?tcplhit2_core"
   ]
  },
  {
   "cell_type": "code",
   "execution_count": 13,
   "metadata": {},
   "outputs": [
    {
     "data": {
      "text/html": [
       "<div>\n",
       "<style scoped>\n",
       "    .dataframe tbody tr th:only-of-type {\n",
       "        vertical-align: middle;\n",
       "    }\n",
       "\n",
       "    .dataframe tbody tr th {\n",
       "        vertical-align: top;\n",
       "    }\n",
       "\n",
       "    .dataframe thead th {\n",
       "        text-align: right;\n",
       "    }\n",
       "</style>\n",
       "<table border=\"1\" class=\"dataframe\">\n",
       "  <thead>\n",
       "    <tr style=\"text-align: right;\">\n",
       "      <th></th>\n",
       "      <th>lconc</th>\n",
       "      <th>resp</th>\n",
       "    </tr>\n",
       "  </thead>\n",
       "  <tbody>\n",
       "    <tr>\n",
       "      <th>0</th>\n",
       "      <td>1</td>\n",
       "      <td>0.1</td>\n",
       "    </tr>\n",
       "    <tr>\n",
       "      <th>1</th>\n",
       "      <td>10</td>\n",
       "      <td>0.4</td>\n",
       "    </tr>\n",
       "    <tr>\n",
       "      <th>2</th>\n",
       "      <td>20</td>\n",
       "      <td>1.0</td>\n",
       "    </tr>\n",
       "    <tr>\n",
       "      <th>3</th>\n",
       "      <td>50</td>\n",
       "      <td>5.0</td>\n",
       "    </tr>\n",
       "    <tr>\n",
       "      <th>4</th>\n",
       "      <td>90</td>\n",
       "      <td>10.0</td>\n",
       "    </tr>\n",
       "    <tr>\n",
       "      <th>5</th>\n",
       "      <td>100</td>\n",
       "      <td>12.0</td>\n",
       "    </tr>\n",
       "  </tbody>\n",
       "</table>\n",
       "</div>"
      ],
      "text/plain": [
       "   lconc  resp\n",
       "0      1   0.1\n",
       "1     10   0.4\n",
       "2     20   1.0\n",
       "3     50   5.0\n",
       "4     90  10.0\n",
       "5    100  12.0"
      ]
     },
     "execution_count": 13,
     "metadata": {},
     "output_type": "execute_result"
    }
   ],
   "source": [
    "CR"
   ]
  },
  {
   "cell_type": "code",
   "execution_count": 19,
   "metadata": {},
   "outputs": [
    {
     "name": "stdout",
     "output_type": "stream",
     "text": [
      "hill >>> 1063 0 \n",
      "gnls >>> 1562 0 \n",
      "poly1 >>> 79 0 \n",
      "poly2 >>> 368 0 \n",
      "power >>> 608 0 \n",
      "Exp2 >>> 134 0 \n",
      "Exp3 >>> 503 0 \n",
      "Exp4 >>> 376 0 \n",
      "Exp5 >>> 1405 0 \n",
      "[1] \"aic values:\"\n",
      "     cnst      hill      gnls     poly1     poly2       pow      exp2      exp3 \n",
      "42.143649 14.920470 18.920469 17.746439  8.352483  7.168116 10.503060  9.823740 \n",
      "     exp4      exp5 \n",
      "28.175043 10.623620 \n",
      "Winner:  pow [1] \"n_gt_cutoff\"     \"cutoff\"          \"fit_method\"      \"top_over_cutoff\"\n",
      " [5] \"rmse\"            \"a\"               \"b\"               \"tp\"             \n",
      " [9] \"p\"               \"q\"               \"ga\"              \"la\"             \n",
      "[13] \"er\"              \"bmr\"             \"bmdl\"            \"bmdu\"           \n",
      "[17] \"caikwt\"          \"mll\"             \"hitcall\"         \"ac50\"           \n",
      "[21] \"ac50_loss\"       \"top\"             \"ac5\"             \"ac10\"           \n",
      "[25] \"ac20\"            \"acc\"             \"ac1sd\"           \"bmd\"            \n",
      "[29] \"conc\"            \"resp\"           \n"
     ]
    }
   ],
   "source": [
    "%%R\n",
    "\n",
    "library(tcplfit2)\n",
    "RFit <- tcplfit2_core(CR$lconc,CR$resp,cutoff=1,verbose=T,bidirectional=T)\n",
    "RHit <- tcplhit2_core(RFit,CR$lconc,CR$resp,cutoff=1,onesd=1)\n",
    "#names(RFit)\n",
    "#RFit$hill\n",
    "names(RHit)"
   ]
  },
  {
   "cell_type": "code",
   "execution_count": 30,
   "metadata": {},
   "outputs": [
    {
     "name": "stdout",
     "output_type": "stream",
     "text": [
      "           n_gt_cutoff                 cutoff             fit_method \n",
      "                   \"3\"                    \"1\"                  \"pow\" \n",
      "       top_over_cutoff                   rmse                      a \n",
      "    \"11.8846497214281\"     \"0.25421875834573\"   \"0.0195874044501253\" \n",
      "                     b                     tp                      p \n",
      "                    NA                     NA     \"1.39150474763515\" \n",
      "                     q                     ga                     la \n",
      "                    NA                     NA                     NA \n",
      "                    er                    bmr                   bmdl \n",
      "    \"-1.5175935175698\"                \"1.349\"     \"20.5437277575228\" \n",
      "                  bmdu                 caikwt                    mll \n",
      "     \"21.365730420987\" \"2.54190663754655e-08\"   \"-0.584058239377759\" \n",
      "               hitcall                   ac50              ac50_loss \n",
      "   \"0.999999974580934\"     \"60.7667277953441\"                     NA \n",
      "                   top                    ac5                   ac10 \n",
      "    \"11.8846497214281\"     \"11.6150039749188\"     \"19.1140849545772\" \n",
      "                  ac20                    acc                  ac1sd \n",
      "    \"31.4548530882746\"     \"16.8835904514727\"     \"16.8835904514727\" \n",
      "                   bmd                   conc                   resp \n",
      "    \"20.9361798246301\"    \"1|10|20|50|90|100\"    \"0.1|0.4|1|5|10|12\" \n"
     ]
    }
   ],
   "source": [
    "%%R\n",
    "\n",
    "RHit$bmr\n",
    "unlist(RHit)"
   ]
  },
  {
   "cell_type": "code",
   "execution_count": 31,
   "metadata": {},
   "outputs": [],
   "source": []
  },
  {
   "cell_type": "code",
   "execution_count": 28,
   "metadata": {},
   "outputs": [
    {
     "data": {
      "text/plain": [
       "R object with classes: ('function',) mapped to:"
      ]
     },
     "execution_count": 28,
     "metadata": {},
     "output_type": "execute_result"
    }
   ],
   "source": [
    "tcplhit2"
   ]
  },
  {
   "cell_type": "code",
   "execution_count": null,
   "metadata": {},
   "outputs": [],
   "source": []
  }
 ],
 "metadata": {
  "kernelspec": {
   "display_name": "tiptox",
   "language": "python",
   "name": "tiptox"
  },
  "language_info": {
   "codemirror_mode": {
    "name": "ipython",
    "version": 3
   },
   "file_extension": ".py",
   "mimetype": "text/x-python",
   "name": "python",
   "nbconvert_exporter": "python",
   "pygments_lexer": "ipython3",
   "version": "3.8.2"
  }
 },
 "nbformat": 4,
 "nbformat_minor": 4
}
