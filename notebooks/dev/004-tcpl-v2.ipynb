{
 "cells": [
  {
   "cell_type": "code",
   "execution_count": 2,
   "metadata": {},
   "outputs": [
    {
     "name": "stdout",
     "output_type": "stream",
     "text": [
      "Populating the interactive namespace from numpy and matplotlib\n"
     ]
    }
   ],
   "source": [
    "import os,sys\n",
    "from dotenv import load_dotenv, find_dotenv\n",
    "\n",
    "load_dotenv(find_dotenv())\n",
    "\n",
    "os.environ['PYTHONPATH']=os.environ.get('LIB')\n",
    "if not os.environ.get('LIB') in sys.path: \n",
    "    sys.path.insert(0,os.environ.get('LIB'))\n",
    "\n",
    "INP_DIR = os.environ.get('DAT_DIR')    \n",
    "FIG_DIR = os.environ.get('FIG_DIR')\n",
    "\n",
    "%load_ext autoreload\n",
    "%autoreload 2\n",
    "%pylab inline\n",
    "%load_ext rpy2.ipython\n",
    "\n",
    "import matplotlib.text as text\n",
    "import pandas as pd\n",
    "import numpy as np\n",
    "import pylab as pl\n",
    "import scipy as sp\n",
    "import sys\n",
    "import rpy2 \n",
    "import os \n",
    "from matplotlib import gridspec\n",
    "from scipy.interpolate import splev, splrep\n",
    "import seaborn as sns\n",
    "from scipy import stats\n",
    "import rpy2.robjects.packages as rpackages\n",
    "import seaborn as sns\n",
    "from statsmodels import robust\n",
    "from box import Box\n",
    "\n",
    "\n",
    "pd.set_option('display.max_colwidth', 500)\n",
    "\n",
    "\n"
   ]
  },
  {
   "cell_type": "markdown",
   "metadata": {},
   "source": [
    "# Goal \n",
    "\n",
    "* Curve fitting \n",
    "* plotting  \n",
    "* BMD calculation\n",
    "* Hit calculation\n"
   ]
  },
  {
   "cell_type": "code",
   "execution_count": 3,
   "metadata": {},
   "outputs": [
    {
     "data": {
      "text/html": [
       "<div>\n",
       "<style scoped>\n",
       "    .dataframe tbody tr th:only-of-type {\n",
       "        vertical-align: middle;\n",
       "    }\n",
       "\n",
       "    .dataframe tbody tr th {\n",
       "        vertical-align: top;\n",
       "    }\n",
       "\n",
       "    .dataframe thead th {\n",
       "        text-align: right;\n",
       "    }\n",
       "</style>\n",
       "<table border=\"1\" class=\"dataframe\">\n",
       "  <thead>\n",
       "    <tr style=\"text-align: right;\">\n",
       "      <th></th>\n",
       "      <th>conc</th>\n",
       "      <th>resp</th>\n",
       "    </tr>\n",
       "  </thead>\n",
       "  <tbody>\n",
       "    <tr>\n",
       "      <th>0</th>\n",
       "      <td>1</td>\n",
       "      <td>0.1</td>\n",
       "    </tr>\n",
       "    <tr>\n",
       "      <th>1</th>\n",
       "      <td>10</td>\n",
       "      <td>0.4</td>\n",
       "    </tr>\n",
       "    <tr>\n",
       "      <th>2</th>\n",
       "      <td>20</td>\n",
       "      <td>1.0</td>\n",
       "    </tr>\n",
       "    <tr>\n",
       "      <th>3</th>\n",
       "      <td>50</td>\n",
       "      <td>5.0</td>\n",
       "    </tr>\n",
       "    <tr>\n",
       "      <th>4</th>\n",
       "      <td>90</td>\n",
       "      <td>10.0</td>\n",
       "    </tr>\n",
       "    <tr>\n",
       "      <th>5</th>\n",
       "      <td>100</td>\n",
       "      <td>12.0</td>\n",
       "    </tr>\n",
       "  </tbody>\n",
       "</table>\n",
       "</div>"
      ],
      "text/plain": [
       "   conc  resp\n",
       "0     1   0.1\n",
       "1    10   0.4\n",
       "2    20   1.0\n",
       "3    50   5.0\n",
       "4    90  10.0\n",
       "5   100  12.0"
      ]
     },
     "execution_count": 3,
     "metadata": {},
     "output_type": "execute_result"
    }
   ],
   "source": [
    "CR = pd.DataFrame(dict(conc=[1,10,20,50,90,100], resp=[0.1,0.4,1,5,10,12]))\n",
    "CR"
   ]
  },
  {
   "cell_type": "code",
   "execution_count": 3,
   "metadata": {},
   "outputs": [],
   "source": [
    "# %%R\n",
    "\n",
    "# library(tcpl)\n"
   ]
  },
  {
   "cell_type": "code",
   "execution_count": 8,
   "metadata": {},
   "outputs": [
    {
     "data": {
      "image/png": "[encoded data removed]",
      "text/plain": [
       "<Figure size 432x288 with 1 Axes>"
      ]
     },
     "metadata": {
      "needs_background": "light"
     },
     "output_type": "display_data"
    }
   ],
   "source": [
    "from tcpl.fit.crvfit import *\n",
    "\n",
    "CF0 = CurveFit()\n",
    "\n",
    "CF0.fit(CR.conc,CR.resp,cutoff=1)\n",
    "CF0.plot_fits(interp=True,best_only=True)"
   ]
  },
  {
   "cell_type": "code",
   "execution_count": 9,
   "metadata": {},
   "outputs": [
    {
     "data": {
      "text/plain": [
       "[{'bmr': 1, 'bmd': 20.176622709370434},\n",
       " {'bmr': 2, 'bmd': 29.30013317765236},\n",
       " {'bmr': 3, 'bmd': 36.79006461821568}]"
      ]
     },
     "execution_count": 9,
     "metadata": {},
     "output_type": "execute_result"
    }
   ],
   "source": [
    "F=CF0.calc_bmds(BMR=[1,2,3],model='exp5')\n",
    "F"
   ]
  },
  {
   "cell_type": "code",
   "execution_count": 10,
   "metadata": {},
   "outputs": [
    {
     "data": {
      "text/plain": [
       "[{'bmr': 1, 'bmd': 22.527341493021265},\n",
       " {'bmr': 2, 'bmd': 30.629240824425715},\n",
       " {'bmr': 3, 'bmd': 37.229563526226315}]"
      ]
     },
     "execution_count": 10,
     "metadata": {},
     "output_type": "execute_result"
    }
   ],
   "source": [
    "F=CF0.calc_bmds(BMR=[1,2,3])\n",
    "F"
   ]
  },
  {
   "cell_type": "code",
   "execution_count": 12,
   "metadata": {},
   "outputs": [
    {
     "data": {
      "text/plain": [
       "{'n_gt_cutoff': 3,\n",
       " 'cutoff': 1,\n",
       " 'fit_method': 'pow',\n",
       " 'top_over_cutoff': 11.884649721428119,\n",
       " 'rmse': 0.2542187583457304,\n",
       " 'a': 0.019587404450125287,\n",
       " 'b': nan,\n",
       " 'tp': nan,\n",
       " 'p': 1.3915047476351516,\n",
       " 'q': nan,\n",
       " 'ga': nan,\n",
       " 'la': nan,\n",
       " 'er': -1.5175935175697979,\n",
       " 'bmr': 1.349,\n",
       " 'bmdl': 20.543727757522806,\n",
       " 'bmdu': 21.365730420986974,\n",
       " 'caikwt': 2.5419066375465458e-08,\n",
       " 'mll': -0.5840582393777591,\n",
       " 'hitcall': 0.9999999745809336,\n",
       " 'ac50': 60.766727795344096,\n",
       " 'ac50_loss': nan,\n",
       " 'top': 11.884649721428119,\n",
       " 'ac5': 11.61500397491877,\n",
       " 'ac10': 19.114084954577233,\n",
       " 'ac20': 31.45485308827463,\n",
       " 'acc': 16.883590451472667,\n",
       " 'ac1sd': 16.883590451472667,\n",
       " 'bmd': 20.93617982463006,\n",
       " 'conc': '1|10|20|50|90|100',\n",
       " 'resp': '0.1|0.4|1|5|10|12'}"
      ]
     },
     "execution_count": 12,
     "metadata": {},
     "output_type": "execute_result"
    }
   ],
   "source": [
    "CF0.calc_hit()"
   ]
  },
  {
   "cell_type": "code",
   "execution_count": 13,
   "metadata": {},
   "outputs": [
    {
     "data": {
      "text/plain": [
       "{'model': 'pow',\n",
       " 'aic': 7.168116478755518,\n",
       " 'top': 11.884649721428119,\n",
       " 'ac50': 60.766727795344096,\n",
       " 'bmr': 1,\n",
       " 'bmd': 16.88359045147267}"
      ]
     },
     "execution_count": 13,
     "metadata": {},
     "output_type": "execute_result"
    }
   ],
   "source": [
    "CF0.get_summary()"
   ]
  },
  {
   "cell_type": "code",
   "execution_count": 28,
   "metadata": {},
   "outputs": [
    {
     "data": {
      "image/png": "[encoded data removed]",
      "text/plain": [
       "<Figure size 432x288 with 1 Axes>"
      ]
     },
     "metadata": {
      "needs_background": "light"
     },
     "output_type": "display_data"
    }
   ],
   "source": [
    "from tcpl.fit.crvfit import *\n",
    "\n",
    "CF0 = CurveFit(hit_call=True)\n",
    "\n",
    "CF0(CR.conc,CR.resp,cutoff=0.5,onesd=1,bmr_magic=1)\n",
    "CF0.plot_fits(interp=True,best_only=True)"
   ]
  },
  {
   "cell_type": "code",
   "execution_count": null,
   "metadata": {},
   "outputs": [],
   "source": []
  }
 ],
 "metadata": {
  "kernelspec": {
   "display_name": "tiptox",
   "language": "python",
   "name": "tiptox"
  },
  "language_info": {
   "codemirror_mode": {
    "name": "ipython",
    "version": 3
   },
   "file_extension": ".py",
   "mimetype": "text/x-python",
   "name": "python",
   "nbconvert_exporter": "python",
   "pygments_lexer": "ipython3",
   "version": "3.8.2"
  },
  "widgets": {
   "application/vnd.jupyter.widget-state+json": {
    "state": {},
    "version_major": 2,
    "version_minor": 0
   }
  }
 },
 "nbformat": 4,
 "nbformat_minor": 4
}
