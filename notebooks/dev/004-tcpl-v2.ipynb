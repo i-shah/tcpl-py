{
 "cells": [
  {
   "cell_type": "code",
   "execution_count": 1,
   "metadata": {},
   "outputs": [
    {
     "name": "stdout",
     "output_type": "stream",
     "text": [
      "Populating the interactive namespace from numpy and matplotlib\n"
     ]
    },
    {
     "name": "stderr",
     "output_type": "stream",
     "text": [
      "/ccte/server_data2/shah/anaconda3/envs/gecco-lsh/lib/python3.7/site-packages/rpy2/robjects/pandas2ri.py:17: FutureWarning: pandas.core.index is deprecated and will be removed in a future version.  The public classes are available in the top-level namespace.\n",
      "  from pandas.core.index import Index as PandasIndex\n"
     ]
    }
   ],
   "source": [
    "import os,sys\n",
    "from dotenv import load_dotenv, find_dotenv\n",
    "\n",
    "load_dotenv(find_dotenv())\n",
    "\n",
    "os.environ['PYTHONPATH']=os.environ.get('LIB')\n",
    "if not os.environ.get('LIB') in sys.path: \n",
    "    sys.path.insert(0,os.environ.get('LIB'))\n",
    "\n",
    "    \n",
    "%load_ext autoreload\n",
    "%autoreload 2\n",
    "%pylab inline\n",
    "%load_ext rpy2.ipython\n",
    "\n",
    "import matplotlib.text as text\n",
    "import pandas as pd\n",
    "import numpy as np\n",
    "import pylab as pl\n",
    "import scipy as sp\n",
    "import sys\n",
    "import rpy2 \n",
    "import os \n",
    "from matplotlib import gridspec\n",
    "from scipy.interpolate import splev, splrep\n",
    "import seaborn as sns\n",
    "from scipy import stats\n",
    "import rpy2.robjects.packages as rpackages\n",
    "import seaborn as sns\n",
    "from statsmodels import robust\n",
    "from box import Box\n",
    "\n",
    "\n",
    "pd.set_option('display.max_colwidth', 500)\n",
    "\n",
    "\n"
   ]
  },
  {
   "cell_type": "markdown",
   "metadata": {},
   "source": [
    "# Goal \n",
    "\n",
    "* Curve fitting \n",
    "* plotting  \n",
    "* BMD calculation\n",
    "* Hit calculation\n"
   ]
  },
  {
   "cell_type": "code",
   "execution_count": 3,
   "metadata": {},
   "outputs": [],
   "source": [
    "# %%R\n",
    "\n",
    "# library(tcpl)\n"
   ]
  },
  {
   "cell_type": "code",
   "execution_count": 9,
   "metadata": {},
   "outputs": [],
   "source": [
    "from tcpl.fit.crvfit import *\n",
    "\n",
    "CF0 = CurveFit()\n",
    "CR = pd.DataFrame(dict(conc=[1,10,20,50,90,100], resp=[0.1,0.4,1,5,10,12]))\n",
    "#CF0.fit(CR.conc,CR.resp,cutoff=1)\n",
    "\n",
    "R = CF0(CR.conc,CR.resp,cutoff=1,summary=True,assay='myassay',\n",
    "        fitmodels=['poly1','hill'])\n",
    "\n",
    "#print(\"\\n        - \".join(sorted(R.keys())))\n",
    "\n",
    "#CF0.plot_fits(interp=True,best_only=True).keys()"
   ]
  },
  {
   "cell_type": "code",
   "execution_count": 10,
   "metadata": {},
   "outputs": [
    {
     "data": {
      "text/plain": [
       "{'model': 'hill',\n",
       " 'aic': 14.92046977426179,\n",
       " 'top': 14.399999999637723,\n",
       " 'ac50': 63.38790417116329,\n",
       " 'n_gt_cutoff': 3,\n",
       " 'cutoff': 1,\n",
       " 'fit_method': 'hill',\n",
       " 'top_over_cutoff': 14.399999999637723,\n",
       " 'rmse': 0.47415256591915217,\n",
       " 'tp': 14.399999999637723,\n",
       " 'p': 2.508599384852272,\n",
       " 'ga': 63.38790417116329,\n",
       " 'er': -1.195403823861224,\n",
       " 'bmr': 1.349,\n",
       " 'bmdl': 24.246635192039612,\n",
       " 'bmdu': 26.744676209859346,\n",
       " 'caikwt': 1.2261996919518673e-06,\n",
       " 'mll': -3.4602348871308948,\n",
       " 'hitcall': 0.9999987738003077,\n",
       " 'ac5': 19.600103293558856,\n",
       " 'ac10': 26.400845280139873,\n",
       " 'ac20': 36.47606087350547,\n",
       " 'acc': 22.527341493021268,\n",
       " 'ac1sd': 22.527341493021268,\n",
       " 'bmd': 25.651049593066876,\n",
       " 'conc': '1|10|20|50|90|100',\n",
       " 'resp': '0.1|0.4|1|5|10|12',\n",
       " 'assay': 'myassay'}"
      ]
     },
     "execution_count": 10,
     "metadata": {},
     "output_type": "execute_result"
    }
   ],
   "source": [
    "R"
   ]
  },
  {
   "cell_type": "code",
   "execution_count": 11,
   "metadata": {},
   "outputs": [
    {
     "data": {
      "text/plain": [
       "[{'bmr': 1, 'bmd': 1.7763568394002505e-12},\n",
       " {'bmr': 2, 'bmd': 1.7763568394002505e-12},\n",
       " {'bmr': 3, 'bmd': 1.7763568394002505e-12}]"
      ]
     },
     "execution_count": 11,
     "metadata": {},
     "output_type": "execute_result"
    }
   ],
   "source": [
    "F=CF0.calc_bmds(BMR=[1,2,3],model='exp5')\n",
    "F"
   ]
  },
  {
   "cell_type": "code",
   "execution_count": 12,
   "metadata": {},
   "outputs": [
    {
     "data": {
      "text/plain": [
       "[{'bmr': 1, 'bmd': 22.527341493021265},\n",
       " {'bmr': 2, 'bmd': 30.629240824425715},\n",
       " {'bmr': 3, 'bmd': 37.229563526226315}]"
      ]
     },
     "execution_count": 12,
     "metadata": {},
     "output_type": "execute_result"
    }
   ],
   "source": [
    "F=CF0.calc_bmds(BMR=[1,2,3])\n",
    "F"
   ]
  },
  {
   "cell_type": "code",
   "execution_count": 13,
   "metadata": {},
   "outputs": [],
   "source": [
    "CF0.hit()"
   ]
  },
  {
   "cell_type": "code",
   "execution_count": 14,
   "metadata": {},
   "outputs": [
    {
     "data": {
      "text/plain": [
       "{'model': 'hill',\n",
       " 'aic': 14.92046977426179,\n",
       " 'top': 14.399999999637723,\n",
       " 'ac50': 63.38790417116329,\n",
       " 'n_gt_cutoff': 3,\n",
       " 'cutoff': 1.0,\n",
       " 'fit_method': 'hill',\n",
       " 'top_over_cutoff': 14.399999999637723,\n",
       " 'rmse': 0.47415256591915217,\n",
       " 'tp': 14.399999999637723,\n",
       " 'p': 2.508599384852272,\n",
       " 'ga': 63.38790417116329,\n",
       " 'er': -1.195403823861224,\n",
       " 'bmr': 1.349,\n",
       " 'bmdl': 24.246635192039612,\n",
       " 'bmdu': 26.744676209859346,\n",
       " 'caikwt': 1.2261996919518673e-06,\n",
       " 'mll': -3.4602348871308948,\n",
       " 'hitcall': 0.9999987738003077,\n",
       " 'ac5': 19.600103293558856,\n",
       " 'ac10': 26.400845280139873,\n",
       " 'ac20': 36.47606087350547,\n",
       " 'acc': 22.527341493021268,\n",
       " 'ac1sd': 22.527341493021268,\n",
       " 'bmd': 25.651049593066876,\n",
       " 'conc': '1|10|20|50|90|100',\n",
       " 'resp': '0.1|0.4|1|5|10|12',\n",
       " 'assay': 'myassay'}"
      ]
     },
     "execution_count": 14,
     "metadata": {},
     "output_type": "execute_result"
    }
   ],
   "source": [
    "CF0.get_summary()"
   ]
  },
  {
   "cell_type": "code",
   "execution_count": 15,
   "metadata": {},
   "outputs": [
    {
     "data": {
      "image/png": "[encoded data removed]",
      "text/plain": [
       "<Figure size 432x288 with 1 Axes>"
      ]
     },
     "metadata": {
      "needs_background": "light"
     },
     "output_type": "display_data"
    }
   ],
   "source": [
    "from tcpl.fit.crvfit import *\n",
    "\n",
    "CF0 = CurveFit(hit_call=True)\n",
    "\n",
    "CF0(CR.conc,CR.resp,cutoff=0.5,onesd=1,bmr_magic=1)\n",
    "CF0.plot_fits(interp=True,best_only=True)"
   ]
  },
  {
   "cell_type": "markdown",
   "metadata": {},
   "source": [
    "# Test new caller"
   ]
  },
  {
   "cell_type": "code",
   "execution_count": 16,
   "metadata": {},
   "outputs": [
    {
     "data": {
      "text/plain": [
       "{'model': 'pow',\n",
       " 'aic': 7.168116478755518,\n",
       " 'top': 11.884649721428119,\n",
       " 'ac50': 60.766727795344096,\n",
       " 'n_gt_cutoff': 3,\n",
       " 'cutoff': 1,\n",
       " 'fit_method': 'pow',\n",
       " 'top_over_cutoff': 11.884649721428119,\n",
       " 'rmse': 0.2542187583457304,\n",
       " 'a': 0.019587404450125287,\n",
       " 'p': 1.3915047476351516,\n",
       " 'er': -1.5175935175697979,\n",
       " 'bmr': 1.349,\n",
       " 'bmdl': 20.543727757522806,\n",
       " 'bmdu': 21.365730420986974,\n",
       " 'caikwt': 2.5419066375465458e-08,\n",
       " 'mll': -0.5840582393777591,\n",
       " 'hitcall': 0.9999999745809336,\n",
       " 'ac5': 11.61500397491877,\n",
       " 'ac10': 19.114084954577233,\n",
       " 'ac20': 31.45485308827463,\n",
       " 'acc': 16.883590451472667,\n",
       " 'ac1sd': 16.883590451472667,\n",
       " 'bmd': 20.93617982463006,\n",
       " 'conc': '1|10|20|50|90|100',\n",
       " 'resp': '0.1|0.4|1|5|10|12',\n",
       " 'assay': 'test'}"
      ]
     },
     "execution_count": 16,
     "metadata": {},
     "output_type": "execute_result"
    }
   ],
   "source": [
    "from tcpl.fit.crvfit import *\n",
    "\n",
    "CF0 = CurveFit()\n",
    "CR = pd.DataFrame(dict(conc=[1,10,20,50,90,100], resp=[0.1,0.4,1,5,10,12]))\n",
    "CF0(CR.conc,CR.resp,cutoff=1,summary=True,assay='test')\n",
    "#CF0.plot_fits(interp=True,best_only=True)"
   ]
  },
  {
   "cell_type": "markdown",
   "metadata": {},
   "source": [
    "## Test CRCurveFromFit"
   ]
  },
  {
   "cell_type": "code",
   "execution_count": 17,
   "metadata": {},
   "outputs": [],
   "source": [
    "F1 = {'model': 'pow',\n",
    "  'aic': 1.9082474493393393,\n",
    "  'top': -1.7795928131379009,\n",
    "  'ac50': 34.46712876661727,\n",
    "  'n_gt_cutoff': 2,\n",
    "  'cutoff': 0.8069440527928959,\n",
    "  'fit_method': 'pow',\n",
    "  'top_over_cutoff': 2.2053484463744324,\n",
    "  'rmse': 0.15783221822102303,\n",
    "  'a': -0.08888660983387162,\n",
    "  'p': 0.650742150406798,\n",
    "  'er': -2.068976843584152,\n",
    "  'bmr': 0.5442837636088083,\n",
    "  'bmdl': 13.98612159279386,\n",
    "  'bmdu': 19.0889078316089,\n",
    "  'caikwt': 0.001103011809672186,\n",
    "  'mll': 2.0458762753303303,\n",
    "  'hitcall': 0.9986073263101948,\n",
    "  'ac5': 1.001608805431864,\n",
    "  'ac10': 2.905982718241271,\n",
    "  'ac20': 8.431171444300361,\n",
    "  'acc': 29.6603426637915,\n",
    "  'ac1sd': 10.223068498548939,\n",
    "  'bmd': 16.194649027022916,\n",
    "  'conc': '1|4|11|33|100',\n",
    "  'resp': '-0.380032784036184|-0.0335382429657858|-0.491021888161715|-0.83823034102675|-1.78599747836732',\n",
    "  'assay': 'Aadac'}"
   ]
  },
  {
   "cell_type": "code",
   "execution_count": 18,
   "metadata": {},
   "outputs": [
    {
     "data": {
      "image/png": "[encoded data removed]",
      "text/plain": [
       "<Figure size 432x288 with 1 Axes>"
      ]
     },
     "metadata": {
      "needs_background": "light"
     },
     "output_type": "display_data"
    }
   ],
   "source": [
    "from tcpl.fit.crvfit import *\n",
    "CCF = CRCurveFromFit()\n",
    "CCF(F1,C=10**np.linspace(-2,3))\n",
    "CCF.plot(data=True)"
   ]
  },
  {
   "cell_type": "code",
   "execution_count": 19,
   "metadata": {},
   "outputs": [
    {
     "data": {
      "text/plain": [
       "'Aadac'"
      ]
     },
     "execution_count": 19,
     "metadata": {},
     "output_type": "execute_result"
    }
   ],
   "source": [
    "CCF.Fit['assay']"
   ]
  },
  {
   "cell_type": "code",
   "execution_count": 20,
   "metadata": {},
   "outputs": [
    {
     "data": {
      "text/plain": [
       "<matplotlib.collections.PathCollection at 0x7ff7cc291d90>"
      ]
     },
     "execution_count": 20,
     "metadata": {},
     "output_type": "execute_result"
    },
    {
     "data": {
      "image/png": "[encoded data removed]",
      "text/plain": [
       "<Figure size 432x288 with 1 Axes>"
      ]
     },
     "metadata": {
      "needs_background": "light"
     },
     "output_type": "display_data"
    }
   ],
   "source": [
    "pl.plot(CCF.Cp,CCF.Rp)\n",
    "pl.scatter(CCF.C,CCF.R)"
   ]
  },
  {
   "cell_type": "code",
   "execution_count": 21,
   "metadata": {},
   "outputs": [
    {
     "data": {
      "text/plain": [
       "0      1.0\n",
       "1      4.0\n",
       "2     11.0\n",
       "3     33.0\n",
       "4    100.0\n",
       "dtype: float64"
      ]
     },
     "execution_count": 21,
     "metadata": {},
     "output_type": "execute_result"
    }
   ],
   "source": [
    "CCF.C"
   ]
  },
  {
   "cell_type": "code",
   "execution_count": null,
   "metadata": {},
   "outputs": [],
   "source": []
  }
 ],
 "metadata": {
  "kernelspec": {
   "display_name": "gecco-lsh",
   "language": "python",
   "name": "gecco-lsh"
  },
  "language_info": {
   "codemirror_mode": {
    "name": "ipython",
    "version": 3
   },
   "file_extension": ".py",
   "mimetype": "text/x-python",
   "name": "python",
   "nbconvert_exporter": "python",
   "pygments_lexer": "ipython3",
   "version": "3.7.7"
  },
  "widgets": {
   "application/vnd.jupyter.widget-state+json": {
    "state": {},
    "version_major": 2,
    "version_minor": 0
   }
  }
 },
 "nbformat": 4,
 "nbformat_minor": 4
}
