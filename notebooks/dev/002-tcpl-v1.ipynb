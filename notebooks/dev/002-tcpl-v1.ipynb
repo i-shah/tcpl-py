{
 "cells": [
  {
   "cell_type": "markdown",
   "metadata": {},
   "source": [
    "# Goal\n",
    "\n",
    "Simple example of concentration-response fitting using the [R/tcpl](https://cran.r-project.org/web/packages/tcpl/index.html) package in Python3 using rpy2. This assumes you've successfully installed [rpy2](https://pypi.org/project/rpy2/) and then set your environment variables below ... \n",
    "\n",
    "Read about the tcplFit approach in [The ToxCast Analysis Pipeline : An R Package for Processing and Modeling Chemical Screening Data](https://academic.oup.com/bioinformatics/article/33/4/618/2617576)\n",
    "\n",
    "\n",
    "The wrapper is in src/tcpl/fit/tcplfit.py "
   ]
  },
  {
   "cell_type": "code",
   "execution_count": 60,
   "metadata": {},
   "outputs": [
    {
     "name": "stdout",
     "output_type": "stream",
     "text": [
      "The autoreload extension is already loaded. To reload it, use:\n",
      "  %reload_ext autoreload\n",
      "Populating the interactive namespace from numpy and matplotlib\n",
      "The rpy2.ipython extension is already loaded. To reload it, use:\n",
      "  %reload_ext rpy2.ipython\n"
     ]
    }
   ],
   "source": [
    "import os,sys\n",
    "from dotenv import load_dotenv, find_dotenv\n",
    "\n",
    "load_dotenv(find_dotenv())\n",
    "\n",
    "os.environ['PYTHONPATH']=os.environ.get('LIB')\n",
    "if not os.environ.get('LIB') in sys.path: \n",
    "    sys.path.insert(0,os.environ.get('LIB'))\n",
    "\n",
    "INP_DIR = os.environ.get('DAT_DIR')    \n",
    "FIG_DIR = os.environ.get('FIG_DIR')\n",
    "\n",
    "%load_ext autoreload\n",
    "%autoreload 2\n",
    "%pylab inline\n",
    "%load_ext rpy2.ipython\n",
    "\n",
    "import matplotlib.text as text\n",
    "import pandas as pd\n",
    "import numpy as np\n",
    "import pylab as pl\n",
    "import scipy as sp\n",
    "import sys\n",
    "import rpy2 \n",
    "import os \n",
    "from matplotlib import gridspec\n",
    "from scipy.interpolate import splev, splrep\n",
    "import seaborn as sns\n",
    "from scipy import stats\n",
    "import rpy2.robjects.packages as rpackages\n",
    "import seaborn as sns\n",
    "from statsmodels import robust\n",
    "from box import Box\n",
    "\n",
    "\n",
    "pd.set_option('display.max_colwidth', 500)\n",
    "\n",
    "\n"
   ]
  },
  {
   "cell_type": "code",
   "execution_count": 66,
   "metadata": {},
   "outputs": [],
   "source": [
    "from tcpl.fit.tcplfit import *"
   ]
  },
  {
   "cell_type": "markdown",
   "metadata": {},
   "source": [
    "# Concentration-response Data\n",
    "\n",
    "Some example data"
   ]
  },
  {
   "cell_type": "code",
   "execution_count": 46,
   "metadata": {},
   "outputs": [
    {
     "data": {
      "text/html": [
       "<div>\n",
       "<style scoped>\n",
       "    .dataframe tbody tr th:only-of-type {\n",
       "        vertical-align: middle;\n",
       "    }\n",
       "\n",
       "    .dataframe tbody tr th {\n",
       "        vertical-align: top;\n",
       "    }\n",
       "\n",
       "    .dataframe thead th {\n",
       "        text-align: right;\n",
       "    }\n",
       "</style>\n",
       "<table border=\"1\" class=\"dataframe\">\n",
       "  <thead>\n",
       "    <tr style=\"text-align: right;\">\n",
       "      <th></th>\n",
       "      <th>lconc</th>\n",
       "      <th>resp</th>\n",
       "    </tr>\n",
       "  </thead>\n",
       "  <tbody>\n",
       "    <tr>\n",
       "      <th>0</th>\n",
       "      <td>0.0</td>\n",
       "      <td>0</td>\n",
       "    </tr>\n",
       "    <tr>\n",
       "      <th>1</th>\n",
       "      <td>0.1</td>\n",
       "      <td>1</td>\n",
       "    </tr>\n",
       "    <tr>\n",
       "      <th>2</th>\n",
       "      <td>1.0</td>\n",
       "      <td>1</td>\n",
       "    </tr>\n",
       "    <tr>\n",
       "      <th>3</th>\n",
       "      <td>2.0</td>\n",
       "      <td>2</td>\n",
       "    </tr>\n",
       "    <tr>\n",
       "      <th>4</th>\n",
       "      <td>3.0</td>\n",
       "      <td>3</td>\n",
       "    </tr>\n",
       "    <tr>\n",
       "      <th>5</th>\n",
       "      <td>4.0</td>\n",
       "      <td>10</td>\n",
       "    </tr>\n",
       "    <tr>\n",
       "      <th>6</th>\n",
       "      <td>5.0</td>\n",
       "      <td>12</td>\n",
       "    </tr>\n",
       "  </tbody>\n",
       "</table>\n",
       "</div>"
      ],
      "text/plain": [
       "   lconc  resp\n",
       "0    0.0     0\n",
       "1    0.1     1\n",
       "2    1.0     1\n",
       "3    2.0     2\n",
       "4    3.0     3\n",
       "5    4.0    10\n",
       "6    5.0    12"
      ]
     },
     "execution_count": 46,
     "metadata": {},
     "output_type": "execute_result"
    }
   ],
   "source": [
    "CR = pd.DataFrame(dict(lconc=[0,0.1,1,2,3,4,5], resp=[0,1,1,2,3,10,12]))\n",
    "CR"
   ]
  },
  {
   "cell_type": "markdown",
   "metadata": {},
   "source": [
    "# How would do I fit these  R using tcplFit?"
   ]
  },
  {
   "cell_type": "markdown",
   "metadata": {},
   "source": [
    "Send the data to R"
   ]
  },
  {
   "cell_type": "code",
   "execution_count": 47,
   "metadata": {},
   "outputs": [],
   "source": [
    "%Rpush CR"
   ]
  },
  {
   "cell_type": "markdown",
   "metadata": {},
   "source": [
    "Run tcplFit"
   ]
  },
  {
   "cell_type": "code",
   "execution_count": 65,
   "metadata": {},
   "outputs": [],
   "source": [
    "%%R\n",
    "\n",
    "library(tcpl)\n",
    "RFit <- tcplFit(CR$lconc,CR$resp,bmad=1)"
   ]
  },
  {
   "cell_type": "markdown",
   "metadata": {},
   "source": [
    "Get the data "
   ]
  },
  {
   "cell_type": "code",
   "execution_count": 53,
   "metadata": {},
   "outputs": [],
   "source": [
    "%Rpull RFit"
   ]
  },
  {
   "cell_type": "code",
   "execution_count": 56,
   "metadata": {},
   "outputs": [
    {
     "data": {
      "text/plain": [
       "{'resp_max': 12,\n",
       " 'resp_min': 0,\n",
       " 'max_mean': 12.0,\n",
       " 'max_mean_conc': 5.0,\n",
       " 'max_med': 12,\n",
       " 'max_med_conc': 5.0,\n",
       " 'logc_max': 5.0,\n",
       " 'logc_min': 0.0,\n",
       " 'cnst': 1,\n",
       " 'hill': 1,\n",
       " 'hcov': 1,\n",
       " 'gnls': 1,\n",
       " 'gcov': 1,\n",
       " 'cnst_er': 1.4757908737625607,\n",
       " 'cnst_aic': 46.802601395485986,\n",
       " 'cnst_rmse': 6.082762530298219,\n",
       " 'hill_tp': 12.39424905348433,\n",
       " 'hill_tp_sd': 0.8223938246377923,\n",
       " 'hill_ga': 3.4347950609703233,\n",
       " 'hill_ga_sd': 0.11160520288642674,\n",
       " 'hill_gw': 1.0295513170222423,\n",
       " 'hill_gw_sd': 0.27255421047969597,\n",
       " 'hill_er': -0.4387183022119415,\n",
       " 'hill_er_sd': 0.37709533452770433,\n",
       " 'hill_aic': 25.11681825380402,\n",
       " 'hill_rmse': 0.8092860083417533,\n",
       " 'gnls_tp': 14.399999998823773,\n",
       " 'gnls_ga': 3.4704932660407493,\n",
       " 'gnls_gw': 0.5857035513400808,\n",
       " 'gnls_la': 5.6881904369511505,\n",
       " 'gnls_lw': 1.7357265926694323,\n",
       " 'gnls_er': -0.5518176792159025,\n",
       " 'gnls_aic': 28.697193314287695,\n",
       " 'gnls_rmse': 0.8563767332398319,\n",
       " 'nconc': 7,\n",
       " 'npts': 7,\n",
       " 'nrep': 1.0,\n",
       " 'nmed_gtbl': 3,\n",
       " 'logc': [0.0, 0.1, 1.0, 2.0, 3.0, 4.0, 5.0],\n",
       " 'hill_modl': [0.003604094204999431,\n",
       "  0.004567909412089644,\n",
       "  0.03847013118866646,\n",
       "  0.39974866154004457,\n",
       "  3.2589568800741726,\n",
       "  9.822096573082447,\n",
       "  12.098267678871872],\n",
       " 'gnls_modl': [0.1323343814035458,\n",
       "  0.15124018158256536,\n",
       "  0.4967519585496057,\n",
       "  1.7421537922135253,\n",
       "  4.989287938630292,\n",
       "  9.655506565188455,\n",
       "  12.00875552845312]}"
      ]
     },
     "execution_count": 56,
     "metadata": {},
     "output_type": "execute_result"
    }
   ],
   "source": [
    "as_dict(RFit)"
   ]
  },
  {
   "cell_type": "code",
   "execution_count": 54,
   "metadata": {},
   "outputs": [],
   "source": [
    "# %%R\n",
    "\n",
    "# library(tcpl)\n",
    "# Conc = c(0,0.1,1,2,3,4,5)\n",
    "# Resp = c(0,1,1,2,3,10,12)\n",
    "# Fit <- tcplFit(Conc,Resp,bmad=1)\n",
    "# names(Fit)\n"
   ]
  },
  {
   "cell_type": "markdown",
   "metadata": {},
   "source": [
    "# How do I do this in Py3?\n",
    "\n",
    "If you were doing this from scratch"
   ]
  },
  {
   "cell_type": "code",
   "execution_count": 14,
   "metadata": {},
   "outputs": [],
   "source": [
    "rtcpl = rpackages.importr('tcpl')"
   ]
  },
  {
   "cell_type": "code",
   "execution_count": 24,
   "metadata": {},
   "outputs": [
    {
     "data": {
      "text/html": [
       "\n",
       "        <span>ListVector with 47 elements.</span>\n",
       "        <table>\n",
       "        <tbody>\n",
       "        \n",
       "          <tr>\n",
       "            <th>\n",
       "            resp_max\n",
       "            </th>\n",
       "            <td>\n",
       "            \n",
       "        <span>FloatVector with 1 elements.</span>\n",
       "        <table>\n",
       "        <tbody>\n",
       "          <tr>\n",
       "          \n",
       "            <td>\n",
       "            12.000000\n",
       "            </td>\n",
       "          \n",
       "          </tr>\n",
       "        </tbody>\n",
       "        </table>\n",
       "        \n",
       "            </td>\n",
       "          </tr>\n",
       "        \n",
       "          <tr>\n",
       "            <th>\n",
       "            resp_min\n",
       "            </th>\n",
       "            <td>\n",
       "            \n",
       "        <span>FloatVector with 1 elements.</span>\n",
       "        <table>\n",
       "        <tbody>\n",
       "          <tr>\n",
       "          \n",
       "            <td>\n",
       "            0.000000\n",
       "            </td>\n",
       "          \n",
       "          </tr>\n",
       "        </tbody>\n",
       "        </table>\n",
       "        \n",
       "            </td>\n",
       "          </tr>\n",
       "        \n",
       "          <tr>\n",
       "            <th>\n",
       "            max_mean\n",
       "            </th>\n",
       "            <td>\n",
       "            \n",
       "        <span>FloatVector with 1 elements.</span>\n",
       "        <table>\n",
       "        <tbody>\n",
       "          <tr>\n",
       "          \n",
       "            <td>\n",
       "            12.000000\n",
       "            </td>\n",
       "          \n",
       "          </tr>\n",
       "        </tbody>\n",
       "        </table>\n",
       "        \n",
       "            </td>\n",
       "          </tr>\n",
       "        \n",
       "          <tr>\n",
       "            <th>\n",
       "            ...\n",
       "            </th>\n",
       "            <td>\n",
       "            ...\n",
       "            </td>\n",
       "          </tr>\n",
       "        \n",
       "          <tr>\n",
       "            <th>\n",
       "            logc\n",
       "            </th>\n",
       "            <td>\n",
       "            \n",
       "        <span>FloatVector with 7 elements.</span>\n",
       "        <table>\n",
       "        <tbody>\n",
       "          <tr>\n",
       "          \n",
       "            <td>\n",
       "            0.000000\n",
       "            </td>\n",
       "          \n",
       "            <td>\n",
       "            0.100000\n",
       "            </td>\n",
       "          \n",
       "            <td>\n",
       "            1.000000\n",
       "            </td>\n",
       "          \n",
       "            <td>\n",
       "            ...\n",
       "            </td>\n",
       "          \n",
       "            <td>\n",
       "            3.000000\n",
       "            </td>\n",
       "          \n",
       "            <td>\n",
       "            4.000000\n",
       "            </td>\n",
       "          \n",
       "            <td>\n",
       "            5.000000\n",
       "            </td>\n",
       "          \n",
       "          </tr>\n",
       "        </tbody>\n",
       "        </table>\n",
       "        \n",
       "            </td>\n",
       "          </tr>\n",
       "        \n",
       "          <tr>\n",
       "            <th>\n",
       "            hill_modl\n",
       "            </th>\n",
       "            <td>\n",
       "            \n",
       "        <span>FloatVector with 7 elements.</span>\n",
       "        <table>\n",
       "        <tbody>\n",
       "          <tr>\n",
       "          \n",
       "            <td>\n",
       "            0.003604\n",
       "            </td>\n",
       "          \n",
       "            <td>\n",
       "            0.004568\n",
       "            </td>\n",
       "          \n",
       "            <td>\n",
       "            0.038470\n",
       "            </td>\n",
       "          \n",
       "            <td>\n",
       "            ...\n",
       "            </td>\n",
       "          \n",
       "            <td>\n",
       "            3.258957\n",
       "            </td>\n",
       "          \n",
       "            <td>\n",
       "            9.822097\n",
       "            </td>\n",
       "          \n",
       "            <td>\n",
       "            12.098268\n",
       "            </td>\n",
       "          \n",
       "          </tr>\n",
       "        </tbody>\n",
       "        </table>\n",
       "        \n",
       "            </td>\n",
       "          </tr>\n",
       "        \n",
       "          <tr>\n",
       "            <th>\n",
       "            gnls_modl\n",
       "            </th>\n",
       "            <td>\n",
       "            \n",
       "        <span>FloatVector with 7 elements.</span>\n",
       "        <table>\n",
       "        <tbody>\n",
       "          <tr>\n",
       "          \n",
       "            <td>\n",
       "            0.132334\n",
       "            </td>\n",
       "          \n",
       "            <td>\n",
       "            0.151240\n",
       "            </td>\n",
       "          \n",
       "            <td>\n",
       "            0.496752\n",
       "            </td>\n",
       "          \n",
       "            <td>\n",
       "            ...\n",
       "            </td>\n",
       "          \n",
       "            <td>\n",
       "            4.989288\n",
       "            </td>\n",
       "          \n",
       "            <td>\n",
       "            9.655507\n",
       "            </td>\n",
       "          \n",
       "            <td>\n",
       "            12.008756\n",
       "            </td>\n",
       "          \n",
       "          </tr>\n",
       "        </tbody>\n",
       "        </table>\n",
       "        \n",
       "            </td>\n",
       "          </tr>\n",
       "        \n",
       "        </tbody>\n",
       "        </table>\n",
       "        "
      ],
      "text/plain": [
       "R object with classes: ('list',) mapped to:\n",
       "[FloatSexp..., FloatSexp..., FloatSexp..., FloatSexp..., ..., IntSexpVe..., FloatSexp..., FloatSexp..., FloatSexp...]\n",
       "  resp_max: <class 'rpy2.robjects.vectors.FloatVector'>\n",
       "  R object with classes: ('numeric',) mapped to:\n",
       "[12.000000]\n",
       "  resp_min: <class 'rpy2.robjects.vectors.FloatVector'>\n",
       "  R object with classes: ('numeric',) mapped to:\n",
       "[0.000000]\n",
       "  max_mean: <class 'rpy2.robjects.vectors.FloatVector'>\n",
       "  R object with classes: ('numeric',) mapped to:\n",
       "[12.000000]\n",
       "  max_mean_conc: <class 'rpy2.robjects.vectors.FloatVector'>\n",
       "  R object with classes: ('numeric',) mapped to:\n",
       "[5.000000]\n",
       "...\n",
       "  max_med_conc: <class 'rpy2.robjects.vectors.IntVector'>\n",
       "  R object with classes: ('RTYPES.INTSXP',) mapped to:\n",
       "[3]\n",
       "  logc_max: <class 'rpy2.robjects.vectors.FloatVector'>\n",
       "  R object with classes: ('numeric',) mapped to:\n",
       "[0.000000, 0.100000, 1.000000, 2.000000, 3.000000, 4.000000, 5.000000]\n",
       "  logc_min: <class 'rpy2.robjects.vectors.FloatVector'>\n",
       "  R object with classes: ('numeric',) mapped to:\n",
       "[0.003604, 0.004568, 0.038470, 0.399749, 3.258957, 9.822097, 12.098268]\n",
       "  cnst: <class 'rpy2.robjects.vectors.FloatVector'>\n",
       "  R object with classes: ('numeric',) mapped to:\n",
       "[0.132334, 0.151240, 0.496752, 1.742154, 4.989288, 9.655507, 12.008756]"
      ]
     },
     "execution_count": 24,
     "metadata": {},
     "output_type": "execute_result"
    }
   ],
   "source": [
    "import rpy2\n",
    "from rpy2.robjects.packages import importr\n",
    "from rpy2.robjects import pandas2ri,FloatVector,ListVector\n",
    "\n",
    "rtcpl.tcplFit(FloatVector(CR.lconc),FloatVector(CR.resp),bmad=1)"
   ]
  },
  {
   "cell_type": "markdown",
   "metadata": {},
   "source": [
    "## Here's how it's all wrapped up in Python"
   ]
  },
  {
   "cell_type": "code",
   "execution_count": 67,
   "metadata": {},
   "outputs": [],
   "source": [
    "from tcpl.fit.tcplfit import *"
   ]
  },
  {
   "cell_type": "code",
   "execution_count": 58,
   "metadata": {},
   "outputs": [],
   "source": [
    "F = tcplFit(CR.lconc,CR.resp,bmad=1)"
   ]
  },
  {
   "cell_type": "code",
   "execution_count": 68,
   "metadata": {},
   "outputs": [
    {
     "data": {
      "text/plain": [
       "dict_keys(['fits', 'cr_info', 'cr_data', 'best_fit'])"
      ]
     },
     "execution_count": 68,
     "metadata": {},
     "output_type": "execute_result"
    }
   ],
   "source": [
    "from box import Box\n",
    "F = Box(F)\n",
    "F.keys()"
   ]
  },
  {
   "cell_type": "code",
   "execution_count": 69,
   "metadata": {},
   "outputs": [
    {
     "data": {
      "text/plain": [
       "<Box: {'er': -0.4387183022119415, 'aic': 25.11681825380402, 'rmse': 0.8092860083417533, 'model': 'hill', 'tp': 12.39424905348433, 'tp_sd': 0.8223938246377923, 'ga': 3.4347950609703233, 'ga_sd': 0.11160520288642674, 'gw': 1.0295513170222423, 'gw_sd': 0.27255421047969597, 'er_sd': 0.37709533452770433, 'modl': [0.003604094204999431, 0.004567909412089644, 0.03847013118866646, 0.39974866154004457, 3.2589568800741726, 9.822096573082447, 12.098267678871872], 'la': nan, 'lw': nan}>"
      ]
     },
     "execution_count": 69,
     "metadata": {},
     "output_type": "execute_result"
    }
   ],
   "source": [
    "F.best_fit"
   ]
  },
  {
   "cell_type": "code",
   "execution_count": 35,
   "metadata": {},
   "outputs": [
    {
     "data": {
      "text/plain": [
       "'hill'"
      ]
     },
     "execution_count": 35,
     "metadata": {},
     "output_type": "execute_result"
    }
   ],
   "source": [
    "F.best_fit.model"
   ]
  },
  {
   "cell_type": "markdown",
   "metadata": {},
   "source": [
    "## Here are the fits..."
   ]
  },
  {
   "cell_type": "code",
   "execution_count": 41,
   "metadata": {},
   "outputs": [
    {
     "data": {
      "text/html": [
       "<div>\n",
       "<style scoped>\n",
       "    .dataframe tbody tr th:only-of-type {\n",
       "        vertical-align: middle;\n",
       "    }\n",
       "\n",
       "    .dataframe tbody tr th {\n",
       "        vertical-align: top;\n",
       "    }\n",
       "\n",
       "    .dataframe thead th {\n",
       "        text-align: right;\n",
       "    }\n",
       "</style>\n",
       "<table border=\"1\" class=\"dataframe\">\n",
       "  <thead>\n",
       "    <tr style=\"text-align: right;\">\n",
       "      <th></th>\n",
       "      <th>er</th>\n",
       "      <th>aic</th>\n",
       "      <th>rmse</th>\n",
       "      <th>model</th>\n",
       "      <th>tp</th>\n",
       "      <th>tp_sd</th>\n",
       "      <th>ga</th>\n",
       "      <th>ga_sd</th>\n",
       "      <th>gw</th>\n",
       "      <th>gw_sd</th>\n",
       "      <th>er_sd</th>\n",
       "      <th>modl</th>\n",
       "      <th>la</th>\n",
       "      <th>lw</th>\n",
       "    </tr>\n",
       "  </thead>\n",
       "  <tbody>\n",
       "    <tr>\n",
       "      <th>0</th>\n",
       "      <td>1.475791</td>\n",
       "      <td>46.802601</td>\n",
       "      <td>6.082763</td>\n",
       "      <td>cnst</td>\n",
       "      <td>NaN</td>\n",
       "      <td>NaN</td>\n",
       "      <td>NaN</td>\n",
       "      <td>NaN</td>\n",
       "      <td>NaN</td>\n",
       "      <td>NaN</td>\n",
       "      <td>NaN</td>\n",
       "      <td>NaN</td>\n",
       "      <td>NaN</td>\n",
       "      <td>NaN</td>\n",
       "    </tr>\n",
       "    <tr>\n",
       "      <th>1</th>\n",
       "      <td>-0.438718</td>\n",
       "      <td>25.116818</td>\n",
       "      <td>0.809286</td>\n",
       "      <td>hill</td>\n",
       "      <td>12.394249</td>\n",
       "      <td>0.822394</td>\n",
       "      <td>3.434795</td>\n",
       "      <td>0.111605</td>\n",
       "      <td>1.029551</td>\n",
       "      <td>0.272554</td>\n",
       "      <td>0.377095</td>\n",
       "      <td>[0.003604094204999431, 0.004567909412089644, 0.03847013118866646, 0.39974866154004457, 3.2589568800741726, 9.822096573082447, 12.098267678871872]</td>\n",
       "      <td>NaN</td>\n",
       "      <td>NaN</td>\n",
       "    </tr>\n",
       "    <tr>\n",
       "      <th>2</th>\n",
       "      <td>-0.551818</td>\n",
       "      <td>28.697193</td>\n",
       "      <td>0.856377</td>\n",
       "      <td>gnls</td>\n",
       "      <td>14.400000</td>\n",
       "      <td>NaN</td>\n",
       "      <td>3.470493</td>\n",
       "      <td>NaN</td>\n",
       "      <td>0.585704</td>\n",
       "      <td>NaN</td>\n",
       "      <td>NaN</td>\n",
       "      <td>[0.1323343814035458, 0.15124018158256536, 0.4967519585496057, 1.7421537922135253, 4.989287938630292, 9.655506565188455, 12.00875552845312]</td>\n",
       "      <td>5.68819</td>\n",
       "      <td>1.735727</td>\n",
       "    </tr>\n",
       "  </tbody>\n",
       "</table>\n",
       "</div>"
      ],
      "text/plain": [
       "         er        aic      rmse model         tp     tp_sd        ga  \\\n",
       "0  1.475791  46.802601  6.082763  cnst        NaN       NaN       NaN   \n",
       "1 -0.438718  25.116818  0.809286  hill  12.394249  0.822394  3.434795   \n",
       "2 -0.551818  28.697193  0.856377  gnls  14.400000       NaN  3.470493   \n",
       "\n",
       "      ga_sd        gw     gw_sd     er_sd  \\\n",
       "0       NaN       NaN       NaN       NaN   \n",
       "1  0.111605  1.029551  0.272554  0.377095   \n",
       "2       NaN  0.585704       NaN       NaN   \n",
       "\n",
       "                                                                                                                                                modl  \\\n",
       "0                                                                                                                                                NaN   \n",
       "1  [0.003604094204999431, 0.004567909412089644, 0.03847013118866646, 0.39974866154004457, 3.2589568800741726, 9.822096573082447, 12.098267678871872]   \n",
       "2         [0.1323343814035458, 0.15124018158256536, 0.4967519585496057, 1.7421537922135253, 4.989287938630292, 9.655506565188455, 12.00875552845312]   \n",
       "\n",
       "        la        lw  \n",
       "0      NaN       NaN  \n",
       "1      NaN       NaN  \n",
       "2  5.68819  1.735727  "
      ]
     },
     "execution_count": 41,
     "metadata": {},
     "output_type": "execute_result"
    }
   ],
   "source": [
    "pd.DataFrame(F.fits)"
   ]
  },
  {
   "cell_type": "markdown",
   "metadata": {},
   "source": [
    "## Here's how to plot the fit"
   ]
  },
  {
   "cell_type": "code",
   "execution_count": 73,
   "metadata": {},
   "outputs": [
    {
     "data": {
      "image/png": "[encoded data removed]",
      "text/plain": [
       "<Figure size 432x288 with 1 Axes>"
      ]
     },
     "metadata": {
      "needs_background": "light"
     },
     "output_type": "display_data"
    }
   ],
   "source": [
    "tcplPlot(F)"
   ]
  },
  {
   "cell_type": "code",
   "execution_count": null,
   "metadata": {},
   "outputs": [],
   "source": []
  }
 ],
 "metadata": {
  "kernelspec": {
   "display_name": "tiptox",
   "language": "python",
   "name": "tiptox"
  },
  "language_info": {
   "codemirror_mode": {
    "name": "ipython",
    "version": 3
   },
   "file_extension": ".py",
   "mimetype": "text/x-python",
   "name": "python",
   "nbconvert_exporter": "python",
   "pygments_lexer": "ipython3",
   "version": "3.8.2"
  }
 },
 "nbformat": 4,
 "nbformat_minor": 4
}
